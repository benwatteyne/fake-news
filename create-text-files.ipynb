{
 "cells": [
  {
   "cell_type": "code",
   "execution_count": 23,
   "metadata": {},
   "outputs": [],
   "source": [
    "import pandas as pd"
   ]
  },
  {
   "cell_type": "code",
   "execution_count": 24,
   "metadata": {},
   "outputs": [],
   "source": [
    "df = pd.read_csv(\"data/snopes_phase2_clean_2018_7_3.csv\")"
   ]
  },
  {
   "cell_type": "code",
   "execution_count": 25,
   "metadata": {},
   "outputs": [
    {
     "data": {
      "text/plain": [
       "0        A Southwest Key spokeswoman, Cindy Casares, ha...\n",
       "1        The Trump administration plans to pay a Texas ...\n",
       "2        Who We Are Southwest Key Programs is a private...\n",
       "3        Administration for Children and Families : Dis...\n",
       "4        Attorney General Jeff Sessions today notified ...\n",
       "                               ...                        \n",
       "15799    Claire (Kristin Davis) is the daughter of Malc...\n",
       "15800    In the Initech office, the insecure Peter Gibb...\n",
       "15801    The best skiers in the world came to the East ...\n",
       "15802    pareidolia There is an universal tendency amon...\n",
       "15803    Topps - US - Star Wars Series 4 (Green Border)...\n",
       "Name: original_article_text_phase2, Length: 15804, dtype: object"
      ]
     },
     "execution_count": 25,
     "metadata": {},
     "output_type": "execute_result"
    }
   ],
   "source": [
    "df['original_article_text_phase2']"
   ]
  },
  {
   "cell_type": "code",
   "execution_count": 26,
   "metadata": {},
   "outputs": [
    {
     "name": "stdout",
     "output_type": "stream",
     "text": [
      "correct-attribution.txt  misattributed.txt  mostly-false.txt  scam.txt\r\n",
      "false.txt\t\t miscaptioned.txt   mostly-true.txt   true.txt\r\n",
      "legend.txt\t\t mixture.txt\t    outdated.txt      unproven.txt\r\n"
     ]
    }
   ],
   "source": [
    "! ls text/"
   ]
  },
  {
   "cell_type": "code",
   "execution_count": 27,
   "metadata": {},
   "outputs": [],
   "source": [
    "legend_file = open('text/legend.txt','w')\n",
    "mostly_false_file = open('text/mostly-false.txt','w')\n",
    "miscaptioned_file = open('text/miscaptioned.txt','w')\n",
    "outdated_file = open('text/outdated.txt','w')\n",
    "false_file = open('text/false.txt','w')\n",
    "mixture_file = open('text/mixture.txt','w')\n",
    "mostly_true_file = open('text/mostly-true.txt','w')\n",
    "scam_file = open('text/scam.txt','w')\n",
    "correct_attribution_file = open('text/correct-attribution.txt','w')\n",
    "misattributed_file = open('text/misattributed.txt','w')\n",
    "true_file = open('text/true.txt','w')\n",
    "unproven_file = open('text/unproven.txt','w')"
   ]
  },
  {
   "cell_type": "code",
   "execution_count": 28,
   "metadata": {},
   "outputs": [],
   "source": [
    "for index, row in df.iterrows():\n",
    "    c = row['fact_rating_phase1']\n",
    "    body = row['original_article_text_phase2']\n",
    "    if c == 'legend':\n",
    "        legend_file.write(body+' <N> ')\n",
    "    elif c == 'mostly false':\n",
    "        mostly_false_file.write(body+' <N> ')\n",
    "    elif c == 'miscaptioned':\n",
    "        miscaptioned_file.write(body+' <N> ')\n",
    "    elif c == 'outdated':\n",
    "        outdated_file.write(body+' <N> ')\n",
    "    elif c == 'false':\n",
    "        false_file.write(body+' <N> ')\n",
    "    elif c == 'mixture':\n",
    "        mixture_file.write(body+' <N> ')\n",
    "    elif c == 'mostly true':\n",
    "        mostly_true_file.write(body+' <N> ')\n",
    "    elif c == 'scam':\n",
    "        scam_file.write(body+' <N> ')\n",
    "    elif c == 'correct attribution':\n",
    "        correct_attribution_file.write(body+' <N> ')\n",
    "    elif c == 'misattributed':\n",
    "        misattributed_file.write(body+' <N> ')\n",
    "    elif c == 'true':\n",
    "        true_file.write(body+' <N> ')\n",
    "    elif c == 'unproven':\n",
    "        unproven_file.write(body+' <N> ')"
   ]
  },
  {
   "cell_type": "code",
   "execution_count": 29,
   "metadata": {},
   "outputs": [],
   "source": [
    "legend_file.close()\n",
    "mostly_false_file.close()\n",
    "miscaptioned_file.close()\n",
    "outdated_file.close()\n",
    "false_file.close()\n",
    "mixture_file.close()\n",
    "mostly_true_file.close()\n",
    "scam_file.close()\n",
    "correct_attribution_file.close()\n",
    "misattributed_file.close()\n",
    "true_file.close()\n",
    "unproven_file.close()"
   ]
  },
  {
   "cell_type": "code",
   "execution_count": null,
   "metadata": {},
   "outputs": [],
   "source": []
  }
 ],
 "metadata": {
  "kernelspec": {
   "display_name": "Python 3",
   "language": "python",
   "name": "python3"
  },
  "language_info": {
   "codemirror_mode": {
    "name": "ipython",
    "version": 3
   },
   "file_extension": ".py",
   "mimetype": "text/x-python",
   "name": "python",
   "nbconvert_exporter": "python",
   "pygments_lexer": "ipython3",
   "version": "3.5.3"
  }
 },
 "nbformat": 4,
 "nbformat_minor": 2
}
