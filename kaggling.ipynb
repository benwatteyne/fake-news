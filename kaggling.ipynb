{
 "cells": [
  {
   "cell_type": "code",
   "execution_count": 1,
   "metadata": {},
   "outputs": [],
   "source": [
    "from runner import Runner\n",
    "import pandas as pd"
   ]
  },
  {
   "cell_type": "code",
   "execution_count": 2,
   "metadata": {},
   "outputs": [],
   "source": [
    "data_path, test_data_path = \"data/train.csv\", \"data/test.csv\""
   ]
  },
  {
   "cell_type": "code",
   "execution_count": 3,
   "metadata": {},
   "outputs": [
    {
     "data": {
      "text/plain": [
       "(50, 5)"
      ]
     },
     "execution_count": 3,
     "metadata": {},
     "output_type": "execute_result"
    }
   ],
   "source": [
    "data = pd.read_csv(data_path)\n",
    "test_data = pd.read_csv(test_data_path) if test_data_path is not None else None\n",
    "data = data.dropna()\n",
    "data.head(50).shape"
   ]
  },
  {
   "cell_type": "code",
   "execution_count": 6,
   "metadata": {},
   "outputs": [
    {
     "data": {
      "text/html": [
       "<div>\n",
       "<style scoped>\n",
       "    .dataframe tbody tr th:only-of-type {\n",
       "        vertical-align: middle;\n",
       "    }\n",
       "\n",
       "    .dataframe tbody tr th {\n",
       "        vertical-align: top;\n",
       "    }\n",
       "\n",
       "    .dataframe thead th {\n",
       "        text-align: right;\n",
       "    }\n",
       "</style>\n",
       "<table border=\"1\" class=\"dataframe\">\n",
       "  <thead>\n",
       "    <tr style=\"text-align: right;\">\n",
       "      <th></th>\n",
       "      <th>id</th>\n",
       "      <th>title</th>\n",
       "      <th>author</th>\n",
       "      <th>text</th>\n",
       "      <th>label</th>\n",
       "    </tr>\n",
       "  </thead>\n",
       "  <tbody>\n",
       "    <tr>\n",
       "      <td>20311</td>\n",
       "      <td>20311</td>\n",
       "      <td>Doomsday Clock Moves Closer to Midnight, Signa...</td>\n",
       "      <td>Jonah Engel Bromwich</td>\n",
       "      <td>It is getting closer to midnight. On Thursday,...</td>\n",
       "      <td>0</td>\n",
       "    </tr>\n",
       "    <tr>\n",
       "      <td>7781</td>\n",
       "      <td>7781</td>\n",
       "      <td>Assad thanks Putin for assistance in fighting ...</td>\n",
       "      <td>TASS</td>\n",
       "      <td>Assad thanks Putin for assistance in fighting ...</td>\n",
       "      <td>1</td>\n",
       "    </tr>\n",
       "    <tr>\n",
       "      <td>13408</td>\n",
       "      <td>13408</td>\n",
       "      <td>Trump Saved Jobs at Carrier, but More Midwest ...</td>\n",
       "      <td>Nelson D. Schwartz</td>\n",
       "      <td>In tiny Sellersburg, Ind. just across the bord...</td>\n",
       "      <td>0</td>\n",
       "    </tr>\n",
       "    <tr>\n",
       "      <td>13770</td>\n",
       "      <td>13770</td>\n",
       "      <td>The 2016 Presidential Race, Explained - The Ne...</td>\n",
       "      <td>Liam Stack</td>\n",
       "      <td>Presidential campaigns are complicated. Confus...</td>\n",
       "      <td>0</td>\n",
       "    </tr>\n",
       "    <tr>\n",
       "      <td>10952</td>\n",
       "      <td>10952</td>\n",
       "      <td>Trophy Hunting Fees Do Little to Help Threaten...</td>\n",
       "      <td>Jada F. Smith</td>\n",
       "      <td>WASHINGTON  —   Advocates of trophy hunting, a...</td>\n",
       "      <td>0</td>\n",
       "    </tr>\n",
       "  </tbody>\n",
       "</table>\n",
       "</div>"
      ],
      "text/plain": [
       "          id                                              title  \\\n",
       "20311  20311  Doomsday Clock Moves Closer to Midnight, Signa...   \n",
       "7781    7781  Assad thanks Putin for assistance in fighting ...   \n",
       "13408  13408  Trump Saved Jobs at Carrier, but More Midwest ...   \n",
       "13770  13770  The 2016 Presidential Race, Explained - The Ne...   \n",
       "10952  10952  Trophy Hunting Fees Do Little to Help Threaten...   \n",
       "\n",
       "                     author  \\\n",
       "20311  Jonah Engel Bromwich   \n",
       "7781                   TASS   \n",
       "13408    Nelson D. Schwartz   \n",
       "13770            Liam Stack   \n",
       "10952         Jada F. Smith   \n",
       "\n",
       "                                                    text  label  \n",
       "20311  It is getting closer to midnight. On Thursday,...      0  \n",
       "7781   Assad thanks Putin for assistance in fighting ...      1  \n",
       "13408  In tiny Sellersburg, Ind. just across the bord...      0  \n",
       "13770  Presidential campaigns are complicated. Confus...      0  \n",
       "10952  WASHINGTON  —   Advocates of trophy hunting, a...      0  "
      ]
     },
     "execution_count": 6,
     "metadata": {},
     "output_type": "execute_result"
    }
   ],
   "source": [
    "run = Runner(data, None)\n",
    "run.data.head()"
   ]
  },
  {
   "cell_type": "code",
   "execution_count": 7,
   "metadata": {},
   "outputs": [
    {
     "name": "stdout",
     "output_type": "stream",
     "text": [
      "Building embeddings for headlines...\n",
      "Inferring article embeddings via doc2vec...\n"
     ]
    },
    {
     "data": {
      "application/vnd.jupyter.widget-view+json": {
       "model_id": "2059684b3819490494281d35fdef790d",
       "version_major": 2,
       "version_minor": 0
      },
      "text/plain": [
       "HBox(children=(FloatProgress(value=0.0, max=18285.0), HTML(value='')))"
      ]
     },
     "metadata": {},
     "output_type": "display_data"
    }
   ],
   "source": [
    "run.load_embeddings(article_col='text', header_col='title', url_col=None, target_col='label')"
   ]
  },
  {
   "cell_type": "code",
   "execution_count": 8,
   "metadata": {},
   "outputs": [],
   "source": [
    "# [x['label'] for x in run.data.iloc if pd.isna(x['text'])]"
   ]
  },
  {
   "cell_type": "code",
   "execution_count": 9,
   "metadata": {},
   "outputs": [
    {
     "data": {
      "text/plain": [
       "id                                                        3\n",
       "title     15 Civilians Killed In Single US Airstrike Hav...\n",
       "author                                      Jessica Purkiss\n",
       "text      Videos 15 Civilians Killed In Single US Airstr...\n",
       "label                                                     1\n",
       "Name: 3, dtype: object"
      ]
     },
     "execution_count": 9,
     "metadata": {},
     "output_type": "execute_result"
    }
   ],
   "source": [
    "run.data.loc[3]"
   ]
  },
  {
   "cell_type": "raw",
   "metadata": {},
   "source": []
  },
  {
   "cell_type": "code",
   "execution_count": null,
   "metadata": {},
   "outputs": [
    {
     "data": {
      "application/vnd.jupyter.widget-view+json": {
       "model_id": "5f72f496af4b4dcc8b5fa82d1a859a38",
       "version_major": 2,
       "version_minor": 0
      },
      "text/plain": [
       "HBox(children=(FloatProgress(value=0.0, max=68700.0), HTML(value='')))"
      ]
     },
     "metadata": {},
     "output_type": "display_data"
    },
    {
     "data": {
      "application/vnd.jupyter.widget-view+json": {
       "model_id": "05ecbeaefa2245b8be2dc2f782b0283d",
       "version_major": 2,
       "version_minor": 0
      },
      "text/plain": [
       "HBox(children=(FloatProgress(value=0.0, max=22950.0), HTML(value='')))"
      ]
     },
     "metadata": {},
     "output_type": "display_data"
    }
   ],
   "source": [
    "model = run.train_model()"
   ]
  },
  {
   "cell_type": "code",
   "execution_count": null,
   "metadata": {},
   "outputs": [],
   "source": [
    "run.test()"
   ]
  },
  {
   "cell_type": "code",
   "execution_count": null,
   "metadata": {},
   "outputs": [],
   "source": [
    "run.understand()"
   ]
  },
  {
   "cell_type": "code",
   "execution_count": null,
   "metadata": {},
   "outputs": [],
   "source": []
  }
 ],
 "metadata": {
  "kernelspec": {
   "display_name": "Python 3",
   "language": "python",
   "name": "python3"
  },
  "language_info": {
   "codemirror_mode": {
    "name": "ipython",
    "version": 3
   },
   "file_extension": ".py",
   "mimetype": "text/x-python",
   "name": "python",
   "nbconvert_exporter": "python",
   "pygments_lexer": "ipython3",
   "version": "3.6.9"
  }
 },
 "nbformat": 4,
 "nbformat_minor": 4
}
