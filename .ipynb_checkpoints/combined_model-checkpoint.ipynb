{
 "cells": [
  {
   "cell_type": "code",
   "execution_count": 12,
   "metadata": {},
   "outputs": [],
   "source": [
    "import torch\n",
    "import torch.nn as nn\n",
    "import torch.nn.functional as F\n",
    "import torch.optim as optim\n",
    "from torch.utils.data import Dataset, DataLoader\n",
    "\n",
    "import pandas as pd\n",
    "from features import FeatureEmbeddings\n",
    "import matplotlib.pyplot as plt\n",
    "from scipy import stats\n",
    "import seaborn as sns\n",
    "from sklearn.metrics import confusion_matrix\n",
    "\n",
    "from tqdm.notebook import tqdm"
   ]
  },
  {
   "cell_type": "markdown",
   "metadata": {},
   "source": [
    "# Data"
   ]
  },
  {
   "cell_type": "code",
   "execution_count": 13,
   "metadata": {},
   "outputs": [],
   "source": [
    "df = pd.read_csv(\"data/snopes_phase2_clean_2018_7_3.csv\")"
   ]
  },
  {
   "cell_type": "code",
   "execution_count": 14,
   "metadata": {},
   "outputs": [],
   "source": [
    "target = []\n",
    "for c in df['fact_rating_phase1']:\n",
    "    if c == 'legend':\n",
    "        target.append(1)\n",
    "    elif c == 'mostly false':\n",
    "        target.append(1)\n",
    "    elif c == 'miscaptioned':\n",
    "        target.append(1)\n",
    "    elif c == 'outdated':\n",
    "        target.append(1)\n",
    "    elif c == 'false':\n",
    "        target.append(1)\n",
    "    elif c == 'mixture':\n",
    "        target.append(1)\n",
    "    elif c == 'mostly true':\n",
    "        target.append(0)\n",
    "    elif c == 'scam':\n",
    "        target.append(1)\n",
    "    elif c == 'correct attribution':\n",
    "        target.append(0)\n",
    "    elif c == 'misattributed':\n",
    "        target.append(1)\n",
    "    elif c == 'true':\n",
    "        target.append(0)\n",
    "    elif c == 'unproven':\n",
    "        target.append(1)"
   ]
  },
  {
   "cell_type": "code",
   "execution_count": 15,
   "metadata": {},
   "outputs": [],
   "source": [
    "df['target'] = target"
   ]
  },
  {
   "cell_type": "code",
   "execution_count": 16,
   "metadata": {},
   "outputs": [],
   "source": [
    "sub1 = df[df.target==1].sample(2000)\n",
    "sub2 = df[df.target==0].sample(2000)\n",
    "subset = sub1.append(sub2)"
   ]
  },
  {
   "cell_type": "code",
   "execution_count": 17,
   "metadata": {},
   "outputs": [
    {
     "name": "stdout",
     "output_type": "stream",
     "text": [
      "Building embeddings for headlines...\n",
      "Building bigram model features for URL strings...\n",
      "Calculating edit distance for each URL string...\n",
      "Inferring article embeddings via doc2vec...\n"
     ]
    },
    {
     "data": {
      "application/vnd.jupyter.widget-view+json": {
       "model_id": "8f4af2b3398d4b80866fe6d0cb94ec54",
       "version_major": 2,
       "version_minor": 0
      },
      "text/plain": [
       "HBox(children=(FloatProgress(value=0.0, max=4000.0), HTML(value='')))"
      ]
     },
     "metadata": {},
     "output_type": "display_data"
    }
   ],
   "source": [
    "embeddings = FeatureEmbeddings()\n",
    "embeddings.create(subset,article_col='original_article_text_phase2',url_col='article_origin_url_phase1',header_col='article_title_phase2')"
   ]
  },
  {
   "cell_type": "code",
   "execution_count": 18,
   "metadata": {},
   "outputs": [],
   "source": [
    "embeddings.features['target'] = subset['target'].reset_index(drop=True)\n",
    "embeddings.features = embeddings.features.sample(frac = 1) \n",
    "splt = int(len(embeddings.features)*7/10)\n",
    "train_df = embeddings.features.iloc[:splt, :]\n",
    "test_df = embeddings.features.iloc[splt:, :]"
   ]
  },
  {
   "cell_type": "code",
   "execution_count": 21,
   "metadata": {},
   "outputs": [],
   "source": [
    "train_df.to_csv('embeddings/inference_train_df.csv',index=False)\n",
    "test_df.to_csv('embeddings/inference_test_df.csv',index=False)"
   ]
  },
  {
   "cell_type": "code",
   "execution_count": 10,
   "metadata": {},
   "outputs": [],
   "source": [
    "class Network(nn.Module):\n",
    "    def __init__(self, in_dim, out_dim=2):\n",
    "        super().__init__()\n",
    "        \n",
    "        self.hidden1 = nn.Linear(in_dim, 32)\n",
    "        self.hidden2 = nn.Linear(32, 16)\n",
    "        self.output = nn.Linear(16, out_dim)\n",
    "        \n",
    "        self.activation = nn.ReLU()\n",
    "        self.softmax = nn.Softmax(dim=1)\n",
    "        \n",
    "    def forward(self, x):\n",
    "        # Pass the input tensor through each of our operations\n",
    "        x = self.hidden1(x)\n",
    "        x = self.activation(x)\n",
    "        x = self.hidden2(x)\n",
    "        x = self.activation(x)\n",
    "        x = self.output(x)\n",
    "        x = self.softmax(x)\n",
    "        \n",
    "        return x"
   ]
  },
  {
   "cell_type": "code",
   "execution_count": 11,
   "metadata": {},
   "outputs": [],
   "source": [
    "class FakeNewsDataset(Dataset):\n",
    "    def __init__(self, df):\n",
    "        self.data = df.drop(columns=['target'])\n",
    "        self.targets = df['target'].astype(int)\n",
    "    \n",
    "    def __getitem__(self, i):\n",
    "        x = torch.tensor(self.data.iloc[i]).float()\n",
    "        y = torch.tensor(self.targets.iloc[i]).long()\n",
    "        return x, y\n",
    "    \n",
    "    def __len__(self):\n",
    "        return len(self.data)"
   ]
  },
  {
   "cell_type": "code",
   "execution_count": 12,
   "metadata": {},
   "outputs": [],
   "source": [
    "train_dataset = FakeNewsDataset(train_df)\n",
    "val_dataset = FakeNewsDataset(test_df)\n",
    "\n",
    "num_epochs = 150\n",
    "batch_size = 30\n",
    "\n",
    "train_loader = DataLoader(train_dataset, batch_size=batch_size, shuffle=True, pin_memory=True)\n",
    "val_loader = DataLoader(val_dataset, batch_size=batch_size, shuffle=False, pin_memory=True)\n",
    "\n",
    "model = Network(len(embeddings.features.columns)-1, 2)\n",
    "# Use the code below to load\n",
    "path = \"models/fake-news-classifier.pt\" \n",
    "model.load_state_dict(torch.load(path))\n",
    "\n",
    "objective = torch.nn.CrossEntropyLoss() # loss function\n",
    "optimizer = optim.Adam(model.parameters(), lr=1e-4)"
   ]
  },
  {
   "cell_type": "code",
   "execution_count": 13,
   "metadata": {},
   "outputs": [
    {
     "data": {
      "application/vnd.jupyter.widget-view+json": {
       "model_id": "0cbee5d65c764b08a6eb0924c7873489",
       "version_major": 2,
       "version_minor": 0
      },
      "text/plain": [
       "HBox(children=(FloatProgress(value=0.0, max=14100.0), HTML(value='')))"
      ]
     },
     "metadata": {},
     "output_type": "display_data"
    },
    {
     "data": {
      "application/vnd.jupyter.widget-view+json": {
       "model_id": "2834b8c7eb194d96997f10738f157b5a",
       "version_major": 2,
       "version_minor": 0
      },
      "text/plain": [
       "HBox(children=(FloatProgress(value=0.0, max=6000.0), HTML(value='')))"
      ]
     },
     "metadata": {},
     "output_type": "display_data"
    },
    {
     "name": "stdout",
     "output_type": "stream",
     "text": [
      "\n",
      "\n"
     ]
    }
   ],
   "source": [
    "# Run your training / validation loops\n",
    "\n",
    "train_losses_avgs = []\n",
    "validate_losses_avgs = []\n",
    "\n",
    "train_loop = tqdm(total=len(train_loader) * num_epochs, position=0) # the little progress bar thing\n",
    "validate_loop = tqdm(total=len(val_loader) * num_epochs, position=0)\n",
    "\n",
    "for epoch in range(num_epochs):\n",
    "    \n",
    "    train_losses = []\n",
    "    \n",
    "    for x, y_truth in train_loader:\n",
    "\n",
    "        optimizer.zero_grad() # forget about the gradient you computed last time\n",
    "\n",
    "        y_hat = model(x)\n",
    "        loss = objective(y_hat, y_truth)\n",
    "\n",
    "        train_losses.append(loss)\n",
    "        \n",
    "        train_loop.set_description('Training loss: {:.4f}'.format(loss.item()))\n",
    "        train_loop.update(1)\n",
    "        \n",
    "        loss.backward() # computes the gradient and stores it in the variable\n",
    "\n",
    "        optimizer.step()\n",
    "    \n",
    "    train_losses_avgs.append(sum(train_losses) / len(train_losses))\n",
    "    \n",
    "    validate_losses = []\n",
    "    \n",
    "    for x, y_truth in val_loader:\n",
    "\n",
    "        y_hat = model(x)\n",
    "        loss = objective(y_hat, y_truth)\n",
    "\n",
    "        validate_losses.append(loss)\n",
    "        \n",
    "        validate_loop.set_description('Validation loss: {:.4f}'.format(loss.item()))\n",
    "        validate_loop.update(1)\n",
    "    \n",
    "    validate_losses_avgs.append(sum(validate_losses) / len(validate_losses))\n",
    "    \n",
    "    \n",
    "train_loop.close()\n",
    "validate_loop.close()"
   ]
  },
  {
   "cell_type": "code",
   "execution_count": 14,
   "metadata": {},
   "outputs": [
    {
     "data": {
      "image/png": "[encoded data removed]",
      "text/plain": [
       "<Figure size 432x288 with 1 Axes>"
      ]
     },
     "metadata": {
      "needs_background": "light"
     },
     "output_type": "display_data"
    }
   ],
   "source": [
    "plt.plot(train_losses_avgs, label='Training')\n",
    "plt.plot(validate_losses_avgs, color='orange', label='Validation')\n",
    "plt.xlabel('Time (Iterations)')\n",
    "plt.ylabel('Loss')\n",
    "plt.legend()\n",
    "plt.show()"
   ]
  },
  {
   "cell_type": "markdown",
   "metadata": {},
   "source": [
    "# Testing"
   ]
  },
  {
   "cell_type": "code",
   "execution_count": 15,
   "metadata": {},
   "outputs": [
    {
     "name": "stdout",
     "output_type": "stream",
     "text": [
      "Accuracy: 0.8008333333333333\n",
      "Recall: 0.7919463087248322\n",
      "Precision: 0.8040885860306644\n"
     ]
    }
   ],
   "source": [
    "correct = 0\n",
    "total = 0\n",
    "y_hat = []\n",
    "y_true = []\n",
    "with torch.no_grad():\n",
    "    for x, targets in val_loader:\n",
    "        prediction = model(x)\n",
    "        _, predicted = torch.max(prediction.data, 1)\n",
    "        for pred, target in zip(predicted, targets):\n",
    "            y_hat.append(int(pred))\n",
    "            y_true.append(int(target))\n",
    "            total += 1\n",
    "            if pred == target:\n",
    "                correct += 1\n",
    "\n",
    "cm = confusion_matrix(y_true, y_hat)\n",
    "tn, fp, fn, tp = cm.ravel()\n",
    "# recall = true positives / (true positives + false negatives)\n",
    "# precision = true positives / (true positives + false positives)\n",
    "print('Accuracy:', correct / total)\n",
    "print('Recall:', tp / (tp + fn))\n",
    "print('Precision:', tp / (tp + fp))"
   ]
  },
  {
   "cell_type": "code",
   "execution_count": 16,
   "metadata": {},
   "outputs": [
    {
     "data": {
      "image/png": "[encoded data removed]",
      "text/plain": [
       "<Figure size 432x288 with 2 Axes>"
      ]
     },
     "metadata": {
      "needs_background": "light"
     },
     "output_type": "display_data"
    }
   ],
   "source": [
    "df = pd.DataFrame(cm, index = ['Real', 'Fake'], columns= ['Pred. Real', 'Pred. Fake'])\n",
    "sns.heatmap(df, square=True, annot=True, vmin=0, fmt=\"d\")\n",
    "plt.show()"
   ]
  },
  {
   "cell_type": "code",
   "execution_count": 17,
   "metadata": {},
   "outputs": [],
   "source": [
    "# Save model weights\n",
    "path = \"models/fake-news-classifier.pt\" \n",
    "torch.save(model.state_dict(), path) # save model locally\n",
    "# Use the code below to load\n",
    "#model.load_state_dict(torch.load(path))"
   ]
  },
  {
   "cell_type": "markdown",
   "metadata": {},
   "source": [
    "Notes today:\n",
    "\n",
    "- make sure to normalize the features that aren't in article/header embedding space (so they don't overpower the other ones)\n",
    "- retrain the doc2vec model with all the data you can find\n",
    "- model inference (shap, lime)\n",
    "- try linear regression, understand what's going on"
   ]
  }
 ],
 "metadata": {
  "kernelspec": {
   "display_name": "Python 3",
   "language": "python",
   "name": "python3"
  },
  "language_info": {
   "codemirror_mode": {
    "name": "ipython",
    "version": 3
   },
   "file_extension": ".py",
   "mimetype": "text/x-python",
   "name": "python",
   "nbconvert_exporter": "python",
   "pygments_lexer": "ipython3",
   "version": "3.5.3"
  }
 },
 "nbformat": 4,
 "nbformat_minor": 2
}
