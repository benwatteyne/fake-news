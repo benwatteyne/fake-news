{
 "cells": [
  {
   "cell_type": "code",
   "execution_count": 1,
   "metadata": {},
   "outputs": [],
   "source": [
    "import pandas as pd\n",
    "import numpy as np\n",
    "\n",
    "import matplotlib.pyplot as plt\n",
    "\n",
    "# models\n",
    "from sklearn import svm\n",
    "from sklearn.naive_bayes import GaussianNB\n",
    "from lightgbm import LGBMClassifier\n",
    "from sklearn.neural_network import MLPClassifier\n",
    "\n",
    "# metrics\n",
    "from sklearn.metrics import accuracy_score, precision_score, recall_score"
   ]
  },
  {
   "cell_type": "markdown",
   "metadata": {},
   "source": [
    "# Data"
   ]
  },
  {
   "cell_type": "code",
   "execution_count": 2,
   "metadata": {},
   "outputs": [],
   "source": [
    "train_df = pd.read_csv('embeddings/full_train_df.csv')\n",
    "test_df = pd.read_csv('embeddings/full_test_df.csv')\n",
    "train_x = train_df.drop(columns=['target'])\n",
    "train_y = train_df['target']\n",
    "test_x = test_df.drop(columns=['target'])\n",
    "y_true = test_df['target']"
   ]
  },
  {
   "cell_type": "markdown",
   "metadata": {},
   "source": [
    "# Classifiers"
   ]
  },
  {
   "cell_type": "code",
   "execution_count": 3,
   "metadata": {},
   "outputs": [],
   "source": [
    "accs = []\n",
    "prcs = []\n",
    "recs = []\n",
    "nams = []\n",
    "\n",
    "def get_metrics(model, model_name=''):\n",
    "    model.fit(train_x, train_y)\n",
    "    y_pred = model.predict(test_x)\n",
    "    a = accuracy_score(y_true,y_pred)\n",
    "    p = precision_score(y_true,y_pred)\n",
    "    r = recall_score(y_true,y_pred)\n",
    "    print(model_name+' accuracy: '+str(a))\n",
    "    print(model_name+' precision: '+str(p))\n",
    "    print(model_name+' recall: '+str(r))\n",
    "    accs.append(a)\n",
    "    prcs.append(p)\n",
    "    recs.append(r)\n",
    "    nams.append(model_name)"
   ]
  },
  {
   "cell_type": "markdown",
   "metadata": {},
   "source": [
    "## SVM"
   ]
  },
  {
   "cell_type": "code",
   "execution_count": 4,
   "metadata": {},
   "outputs": [
    {
     "name": "stdout",
     "output_type": "stream",
     "text": [
      "SVM accuracy: 0.8628\n",
      "SVM precision: 0.8593615185504746\n",
      "SVM recall: 0.9915380786460926\n"
     ]
    }
   ],
   "source": [
    "mnm = 'SVM'\n",
    "svm = svm.SVC()\n",
    "get_metrics(svm,'SVM')"
   ]
  },
  {
   "cell_type": "markdown",
   "metadata": {},
   "source": [
    "## Naive Bayes"
   ]
  },
  {
   "cell_type": "code",
   "execution_count": 5,
   "metadata": {},
   "outputs": [
    {
     "name": "stdout",
     "output_type": "stream",
     "text": [
      "Naive Bayes accuracy: 0.7052\n",
      "Naive Bayes precision: 0.8192771084337349\n",
      "Naive Bayes recall: 0.812344449975112\n"
     ]
    }
   ],
   "source": [
    "gnb = GaussianNB()\n",
    "get_metrics(gnb,'Naive Bayes')"
   ]
  },
  {
   "cell_type": "markdown",
   "metadata": {},
   "source": [
    "## LightGBM"
   ]
  },
  {
   "cell_type": "code",
   "execution_count": 6,
   "metadata": {},
   "outputs": [
    {
     "name": "stdout",
     "output_type": "stream",
     "text": [
      "LightGBM accuracy: 0.8524\n",
      "LightGBM precision: 0.8568320278503047\n",
      "LightGBM recall: 0.9800895968143355\n"
     ]
    }
   ],
   "source": [
    "lgbm = LGBMClassifier(objective='binary', random_state=33)\n",
    "get_metrics(lgbm,'LightGBM')"
   ]
  },
  {
   "cell_type": "markdown",
   "metadata": {},
   "source": [
    "## Multi-layer Perceptron (DNN)"
   ]
  },
  {
   "cell_type": "code",
   "execution_count": 7,
   "metadata": {},
   "outputs": [
    {
     "name": "stdout",
     "output_type": "stream",
     "text": [
      "DNN accuracy: 0.7008\n",
      "DNN precision: 0.8129032258064516\n",
      "DNN recall: 0.8153310104529616\n"
     ]
    }
   ],
   "source": [
    "dnn = MLPClassifier(solver='lbfgs', alpha=1e-5, hidden_layer_sizes=(15,), random_state=33)\n",
    "get_metrics(dnn,'DNN')"
   ]
  },
  {
   "cell_type": "markdown",
   "metadata": {},
   "source": [
    "# Inference with LightGBM"
   ]
  },
  {
   "cell_type": "code",
   "execution_count": 8,
   "metadata": {},
   "outputs": [
    {
     "name": "stdout",
     "output_type": "stream",
     "text": [
      "Training until validation scores don't improve for 300 rounds\n",
      "Did not meet early stopping. Best iteration is:\n",
      "[100]\ttraining's auc: 0.99999\ttraining's binary_logloss: 0.106224\tvalid_1's auc: 0.843416\tvalid_1's binary_logloss: 0.356579\n"
     ]
    },
    {
     "data": {
      "text/plain": [
       "LGBMClassifier(boosting_type='gbdt', class_weight=None, colsample_bytree=1.0,\n",
       "               importance_type='split', learning_rate=0.1, max_depth=-1,\n",
       "               min_child_samples=20, min_child_weight=0.001, min_split_gain=0.0,\n",
       "               n_estimators=100, n_jobs=-1, num_leaves=31, objective='binary',\n",
       "               random_state=33, reg_alpha=0.0, reg_lambda=0.0, silent=True,\n",
       "               subsample=1.0, subsample_for_bin=200000, subsample_freq=0)"
      ]
     },
     "execution_count": 8,
     "metadata": {},
     "output_type": "execute_result"
    }
   ],
   "source": [
    "# LightGBM parameters found by Bayesian optimization\n",
    "clf = LGBMClassifier(objective='binary', random_state=33)\n",
    "clf.fit(train_x, train_y, \n",
    "        eval_set=[(train_x, train_y), (test_x, y_true)], \n",
    "        eval_metric= 'auc', verbose= 1000, early_stopping_rounds= 300)"
   ]
  },
  {
   "cell_type": "code",
   "execution_count": null,
   "metadata": {},
   "outputs": [],
   "source": []
  }
 ],
 "metadata": {
  "kernelspec": {
   "display_name": "Python 3",
   "language": "python",
   "name": "python3"
  },
  "language_info": {
   "codemirror_mode": {
    "name": "ipython",
    "version": 3
   },
   "file_extension": ".py",
   "mimetype": "text/x-python",
   "name": "python",
   "nbconvert_exporter": "python",
   "pygments_lexer": "ipython3",
   "version": "3.5.3"
  }
 },
 "nbformat": 4,
 "nbformat_minor": 2
}
