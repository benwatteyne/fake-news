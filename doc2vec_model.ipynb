{
 "cells": [
  {
   "cell_type": "markdown",
   "metadata": {},
   "source": [
    "# Training"
   ]
  },
  {
   "cell_type": "markdown",
   "metadata": {},
   "source": [
    "## Imports"
   ]
  },
  {
   "cell_type": "code",
   "execution_count": 1,
   "metadata": {},
   "outputs": [],
   "source": [
    "import pandas as pd\n",
    "from gensim.models.doc2vec import Doc2Vec, TaggedDocument\n",
    "from gensim.parsing.preprocessing import strip_punctuation, strip_numeric\n",
    "import random"
   ]
  },
  {
   "cell_type": "markdown",
   "metadata": {},
   "source": [
    "## Data\n",
    "Data comes from [this academic source](http://fakenews.research.sfu.ca/)."
   ]
  },
  {
   "cell_type": "code",
   "execution_count": 2,
   "metadata": {},
   "outputs": [],
   "source": [
    "df = pd.read_csv(\"data/snopes_phase2_clean_2018_7_3.csv\")"
   ]
  },
  {
   "cell_type": "code",
   "execution_count": 3,
   "metadata": {},
   "outputs": [],
   "source": [
    "raw_texts = list(df['original_article_text_phase2'])\n",
    "labels = list(df['fact_rating_phase1'])"
   ]
  },
  {
   "cell_type": "code",
   "execution_count": 4,
   "metadata": {},
   "outputs": [
    {
     "name": "stdout",
     "output_type": "stream",
     "text": [
      "We have 15804 total texts in our dataset.\n"
     ]
    }
   ],
   "source": [
    "print('We have '+str(len(raw_texts))+' total texts in our dataset.')"
   ]
  },
  {
   "cell_type": "code",
   "execution_count": 5,
   "metadata": {},
   "outputs": [],
   "source": [
    "def clean(doc):\n",
    "    return strip_punctuation(doc).lower().split()"
   ]
  },
  {
   "cell_type": "code",
   "execution_count": 6,
   "metadata": {},
   "outputs": [],
   "source": [
    "texts = [clean(doc) for doc in raw_texts]"
   ]
  },
  {
   "cell_type": "markdown",
   "metadata": {},
   "source": [
    "The following creates TaggedDocument objects for each of the texts in the dataset, where each text is tagged by the fact rating (label),e.g. \"true\" or \"false.\""
   ]
  },
  {
   "cell_type": "code",
   "execution_count": 7,
   "metadata": {},
   "outputs": [],
   "source": [
    "documents = [TaggedDocument(doc, [label]) for doc,label in zip(texts,labels)]\n",
    "random.shuffle(documents)\n",
    "n = len(documents)\n",
    "split = n*7//10\n",
    "train_corpus = documents[:split]\n",
    "test_corpus = documents[split:]"
   ]
  },
  {
   "cell_type": "markdown",
   "metadata": {},
   "source": [
    "## Model\n",
    "The model is trained on the documents, with vector size of 100 (for each word), with a window of 10 (each word is predicted by the 10 words surrounding it). min_count = 2 means that every word will be used if it appears more than once."
   ]
  },
  {
   "cell_type": "code",
   "execution_count": 8,
   "metadata": {},
   "outputs": [],
   "source": [
    "model = Doc2Vec(vector_size=100, window=10, min_count=2, epochs=100)\n",
    "model.build_vocab(train_corpus)"
   ]
  },
  {
   "cell_type": "markdown",
   "metadata": {},
   "source": [
    "Train"
   ]
  },
  {
   "cell_type": "code",
   "execution_count": 9,
   "metadata": {},
   "outputs": [],
   "source": [
    "model.train(train_corpus, total_examples=model.corpus_count, epochs=model.epochs)"
   ]
  },
  {
   "cell_type": "markdown",
   "metadata": {},
   "source": [
    "Save the model"
   ]
  },
  {
   "cell_type": "code",
   "execution_count": 9,
   "metadata": {},
   "outputs": [],
   "source": [
    "#model.save(\"models/my_doc2vec_model\")\n",
    "model = Doc2Vec.load(\"models/my_doc2vec_model\")"
   ]
  },
  {
   "cell_type": "markdown",
   "metadata": {},
   "source": [
    "# Evaluating"
   ]
  },
  {
   "cell_type": "markdown",
   "metadata": {},
   "source": [
    "## Example"
   ]
  },
  {
   "cell_type": "code",
   "execution_count": 13,
   "metadata": {},
   "outputs": [
    {
     "name": "stdout",
     "output_type": "stream",
     "text": [
      "[ 0.9404052   0.47744063  0.53421813  0.66232985  0.28171626  1.017354\n",
      " -0.84455884 -0.39268035  0.07428476 -0.79790145 -0.12265771 -0.4231448\n",
      " -0.07662332 -0.22598988  0.01171068  0.58670026  0.62161267  0.3769406\n",
      "  0.14629868  0.6340019   0.2909536   0.11042444 -0.5684845  -0.33001187\n",
      "  0.224797    0.21839188 -0.34626693 -1.1993206  -0.04392567 -0.07876993\n",
      " -1.3451405  -0.28440332  0.17690015  0.34891653 -0.5191822   0.7707534\n",
      " -0.27425253 -0.84567475  0.04765292 -0.73873806 -0.3549434  -0.8706137\n",
      " -0.01893645  0.75383514 -0.6347843  -0.5896135   0.45323756 -0.22950776\n",
      "  0.72223383  0.6458022  -0.0560001  -0.8117853   0.7797085  -0.4714741\n",
      "  0.42436132 -0.18374477 -0.8277907   0.38557872  0.22068419 -0.14774607\n",
      " -0.02490484 -0.37784976 -0.41929457  0.09866143  0.63371545 -0.1872806\n",
      "  0.4446957   0.6320312  -0.16217197  0.5129655   0.01808596 -0.6853428\n",
      "  0.33292666  0.08106186 -0.11431783 -0.8593764   0.6780839   0.03162329\n",
      " -0.5577183   0.6695166  -0.47466102  0.3819133  -0.04767067 -0.0586651\n",
      "  0.23340635  0.37354225  0.9320401   0.09137782  0.20607223  0.14628941\n",
      "  0.6065679  -0.8554981  -0.38193908  0.46194795  0.3109806   0.1428219\n",
      "  0.6155694  -0.25812048  0.69525385 -0.4098129 ]\n"
     ]
    }
   ],
   "source": [
    "new_doc = 'hillary clinton won the presidential election'.split()\n",
    "vector = model.infer_vector(new_doc)\n",
    "print(vector)"
   ]
  },
  {
   "cell_type": "markdown",
   "metadata": {},
   "source": [
    "## Assessment\n",
    "We do the following to make sure the model is behaving in a useful way. For each document in the train corpus, we infer a new vector from the model, calculate the most similar document vectors in the model, and determine if the inferred vectors are closest to themselves in the model. ***rank*** will store the index of the correct document in the similarity list. We should see most of the documents ranked as the number one most similar document to themselves."
   ]
  },
  {
   "cell_type": "code",
   "execution_count": 12,
   "metadata": {},
   "outputs": [],
   "source": [
    "ranks = []\n",
    "second_ranks = []\n",
    "for doc_id in range(len(train_corpus)):\n",
    "    inferred_vector = model.infer_vector(train_corpus[doc_id].words)\n",
    "    sims = model.docvecs.most_similar([inferred_vector], topn=len(model.docvecs))\n",
    "    rank = [docid for docid, sim in sims].index(train_corpus[doc_id].tags[0])\n",
    "    ranks.append(rank)\n",
    "    second_ranks.append(sims[1])"
   ]
  },
  {
   "cell_type": "code",
   "execution_count": 13,
   "metadata": {},
   "outputs": [
    {
     "name": "stdout",
     "output_type": "stream",
     "text": [
      "Counter({0: 8662, 1: 1245, 2: 554, 3: 259, 4: 154, 5: 77, 6: 42, 7: 25, 8: 22, 9: 18, 10: 4})\n"
     ]
    }
   ],
   "source": [
    "import collections\n",
    "\n",
    "counter = collections.Counter(ranks)\n",
    "print(counter)"
   ]
  },
  {
   "cell_type": "markdown",
   "metadata": {},
   "source": [
    "# Testing Stuff"
   ]
  },
  {
   "cell_type": "code",
   "execution_count": 15,
   "metadata": {},
   "outputs": [],
   "source": [
    "a_vec_labels = []\n",
    "for i in range(0,100):\n",
    "    a_vec_labels.append('a_vec_'+str(i))"
   ]
  },
  {
   "cell_type": "code",
   "execution_count": 16,
   "metadata": {},
   "outputs": [
    {
     "data": {
      "text/html": [
       "<div>\n",
       "<style scoped>\n",
       "    .dataframe tbody tr th:only-of-type {\n",
       "        vertical-align: middle;\n",
       "    }\n",
       "\n",
       "    .dataframe tbody tr th {\n",
       "        vertical-align: top;\n",
       "    }\n",
       "\n",
       "    .dataframe thead th {\n",
       "        text-align: right;\n",
       "    }\n",
       "</style>\n",
       "<table border=\"1\" class=\"dataframe\">\n",
       "  <thead>\n",
       "    <tr style=\"text-align: right;\">\n",
       "      <th></th>\n",
       "      <th>a_vec_0</th>\n",
       "      <th>a_vec_1</th>\n",
       "      <th>a_vec_2</th>\n",
       "      <th>a_vec_3</th>\n",
       "      <th>a_vec_4</th>\n",
       "      <th>a_vec_5</th>\n",
       "      <th>a_vec_6</th>\n",
       "      <th>a_vec_7</th>\n",
       "      <th>a_vec_8</th>\n",
       "      <th>a_vec_9</th>\n",
       "      <th>...</th>\n",
       "      <th>a_vec_90</th>\n",
       "      <th>a_vec_91</th>\n",
       "      <th>a_vec_92</th>\n",
       "      <th>a_vec_93</th>\n",
       "      <th>a_vec_94</th>\n",
       "      <th>a_vec_95</th>\n",
       "      <th>a_vec_96</th>\n",
       "      <th>a_vec_97</th>\n",
       "      <th>a_vec_98</th>\n",
       "      <th>a_vec_99</th>\n",
       "    </tr>\n",
       "  </thead>\n",
       "  <tbody>\n",
       "  </tbody>\n",
       "</table>\n",
       "<p>0 rows × 100 columns</p>\n",
       "</div>"
      ],
      "text/plain": [
       "Empty DataFrame\n",
       "Columns: [a_vec_0, a_vec_1, a_vec_2, a_vec_3, a_vec_4, a_vec_5, a_vec_6, a_vec_7, a_vec_8, a_vec_9, a_vec_10, a_vec_11, a_vec_12, a_vec_13, a_vec_14, a_vec_15, a_vec_16, a_vec_17, a_vec_18, a_vec_19, a_vec_20, a_vec_21, a_vec_22, a_vec_23, a_vec_24, a_vec_25, a_vec_26, a_vec_27, a_vec_28, a_vec_29, a_vec_30, a_vec_31, a_vec_32, a_vec_33, a_vec_34, a_vec_35, a_vec_36, a_vec_37, a_vec_38, a_vec_39, a_vec_40, a_vec_41, a_vec_42, a_vec_43, a_vec_44, a_vec_45, a_vec_46, a_vec_47, a_vec_48, a_vec_49, a_vec_50, a_vec_51, a_vec_52, a_vec_53, a_vec_54, a_vec_55, a_vec_56, a_vec_57, a_vec_58, a_vec_59, a_vec_60, a_vec_61, a_vec_62, a_vec_63, a_vec_64, a_vec_65, a_vec_66, a_vec_67, a_vec_68, a_vec_69, a_vec_70, a_vec_71, a_vec_72, a_vec_73, a_vec_74, a_vec_75, a_vec_76, a_vec_77, a_vec_78, a_vec_79, a_vec_80, a_vec_81, a_vec_82, a_vec_83, a_vec_84, a_vec_85, a_vec_86, a_vec_87, a_vec_88, a_vec_89, a_vec_90, a_vec_91, a_vec_92, a_vec_93, a_vec_94, a_vec_95, a_vec_96, a_vec_97, a_vec_98, a_vec_99]\n",
       "Index: []\n",
       "\n",
       "[0 rows x 100 columns]"
      ]
     },
     "execution_count": 16,
     "metadata": {},
     "output_type": "execute_result"
    }
   ],
   "source": [
    "test = pd.DataFrame(columns=a_vec_labels)\n",
    "test"
   ]
  },
  {
   "cell_type": "code",
   "execution_count": 28,
   "metadata": {},
   "outputs": [
    {
     "name": "stdout",
     "output_type": "stream",
     "text": [
      "[5.110512, -0.65592986, 0.20836602, 0.70076805, 0.4907212, 2.3698783, -0.6267344, -1.0828326, -2.7821813, -1.268279, 0.41016048, -0.079039365, -0.028961234, 2.9258268, -0.14932479, 0.7232984, -3.1125193, 1.4003577, -0.07166648, -0.743049, 1.0612937, -1.5159053, -2.7612288, -2.3630278, 0.70225316, -2.5888743, -3.5680034, -2.2784598, 0.262927, -4.4516673, -2.6072607, -0.79051894, 1.1706922, 0.83756584, -4.775812, 7.1229606, -0.22308028, -1.8293043, -0.4676226, -1.7573675, 0.23633519, -2.2035124, 0.8874312, -0.13073745, -0.8329144, -0.5429555, -1.6758429, -0.52289486, 3.0283427, 2.1907792, -1.7132385, -3.6814685, 4.7607384, -4.0084343, 6.727845, -0.7473339, -1.6317383, 5.0585017, 2.2816267, -1.1080445, 0.32366565, -2.5909634, 1.0620666, -1.0166601, 1.029357, -1.5898114, -1.7993814, 4.5236235, -4.0189924, 3.0700517, -0.054084707, 0.86749595, -1.7806597, 0.50445664, 2.2609172, -3.2808983, 0.86614966, 2.4901724, 5.4935184, -0.2522444, -3.9711046, -1.9295852, -3.0441294, -1.9789611, -0.80495954, 0.5821509, 1.4044616, -0.85563844, -2.864093, 0.09073074, 0.684166, -1.8705395, -0.38260677, -0.054269586, 2.4263563, -0.9931927, -1.1280664, -0.27484447, 0.9207818, -3.0918753]\n"
     ]
    }
   ],
   "source": [
    "# DELETE THIS\n",
    "vecs = []\n",
    "for i,text in enumerate(test_corpus):\n",
    "    e = list(model.infer_vector(text.words))\n",
    "    vecs.append(e)\n",
    "    print(e)\n",
    "    break"
   ]
  },
  {
   "cell_type": "code",
   "execution_count": 29,
   "metadata": {},
   "outputs": [],
   "source": [
    "test = pd.DataFrame(vecs,columns=a_vec_labels)"
   ]
  },
  {
   "cell_type": "code",
   "execution_count": 30,
   "metadata": {},
   "outputs": [
    {
     "data": {
      "text/html": [
       "<div>\n",
       "<style scoped>\n",
       "    .dataframe tbody tr th:only-of-type {\n",
       "        vertical-align: middle;\n",
       "    }\n",
       "\n",
       "    .dataframe tbody tr th {\n",
       "        vertical-align: top;\n",
       "    }\n",
       "\n",
       "    .dataframe thead th {\n",
       "        text-align: right;\n",
       "    }\n",
       "</style>\n",
       "<table border=\"1\" class=\"dataframe\">\n",
       "  <thead>\n",
       "    <tr style=\"text-align: right;\">\n",
       "      <th></th>\n",
       "      <th>a_vec_0</th>\n",
       "      <th>a_vec_1</th>\n",
       "      <th>a_vec_2</th>\n",
       "      <th>a_vec_3</th>\n",
       "      <th>a_vec_4</th>\n",
       "      <th>a_vec_5</th>\n",
       "      <th>a_vec_6</th>\n",
       "      <th>a_vec_7</th>\n",
       "      <th>a_vec_8</th>\n",
       "      <th>a_vec_9</th>\n",
       "      <th>...</th>\n",
       "      <th>a_vec_90</th>\n",
       "      <th>a_vec_91</th>\n",
       "      <th>a_vec_92</th>\n",
       "      <th>a_vec_93</th>\n",
       "      <th>a_vec_94</th>\n",
       "      <th>a_vec_95</th>\n",
       "      <th>a_vec_96</th>\n",
       "      <th>a_vec_97</th>\n",
       "      <th>a_vec_98</th>\n",
       "      <th>a_vec_99</th>\n",
       "    </tr>\n",
       "  </thead>\n",
       "  <tbody>\n",
       "    <tr>\n",
       "      <td>0</td>\n",
       "      <td>5.110512</td>\n",
       "      <td>-0.65593</td>\n",
       "      <td>0.208366</td>\n",
       "      <td>0.700768</td>\n",
       "      <td>0.490721</td>\n",
       "      <td>2.369878</td>\n",
       "      <td>-0.626734</td>\n",
       "      <td>-1.082833</td>\n",
       "      <td>-2.782181</td>\n",
       "      <td>-1.268279</td>\n",
       "      <td>...</td>\n",
       "      <td>0.684166</td>\n",
       "      <td>-1.87054</td>\n",
       "      <td>-0.382607</td>\n",
       "      <td>-0.05427</td>\n",
       "      <td>2.426356</td>\n",
       "      <td>-0.993193</td>\n",
       "      <td>-1.128066</td>\n",
       "      <td>-0.274844</td>\n",
       "      <td>0.920782</td>\n",
       "      <td>-3.091875</td>\n",
       "    </tr>\n",
       "  </tbody>\n",
       "</table>\n",
       "<p>1 rows × 100 columns</p>\n",
       "</div>"
      ],
      "text/plain": [
       "    a_vec_0  a_vec_1   a_vec_2   a_vec_3   a_vec_4   a_vec_5   a_vec_6  \\\n",
       "0  5.110512 -0.65593  0.208366  0.700768  0.490721  2.369878 -0.626734   \n",
       "\n",
       "    a_vec_7   a_vec_8   a_vec_9  ...  a_vec_90  a_vec_91  a_vec_92  a_vec_93  \\\n",
       "0 -1.082833 -2.782181 -1.268279  ...  0.684166  -1.87054 -0.382607  -0.05427   \n",
       "\n",
       "   a_vec_94  a_vec_95  a_vec_96  a_vec_97  a_vec_98  a_vec_99  \n",
       "0  2.426356 -0.993193 -1.128066 -0.274844  0.920782 -3.091875  \n",
       "\n",
       "[1 rows x 100 columns]"
      ]
     },
     "execution_count": 30,
     "metadata": {},
     "output_type": "execute_result"
    }
   ],
   "source": [
    "test"
   ]
  },
  {
   "cell_type": "code",
   "execution_count": null,
   "metadata": {},
   "outputs": [],
   "source": []
  }
 ],
 "metadata": {
  "kernelspec": {
   "display_name": "Python 3",
   "language": "python",
   "name": "python3"
  },
  "language_info": {
   "codemirror_mode": {
    "name": "ipython",
    "version": 3
   },
   "file_extension": ".py",
   "mimetype": "text/x-python",
   "name": "python",
   "nbconvert_exporter": "python",
   "pygments_lexer": "ipython3",
   "version": "3.5.3"
  }
 },
 "nbformat": 4,
 "nbformat_minor": 2
}
