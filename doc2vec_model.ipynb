{
 "cells": [
  {
   "cell_type": "markdown",
   "metadata": {},
   "source": [
    "# Training"
   ]
  },
  {
   "cell_type": "markdown",
   "metadata": {},
   "source": [
    "## Imports"
   ]
  },
  {
   "cell_type": "code",
   "execution_count": 1,
   "metadata": {},
   "outputs": [],
   "source": [
    "import pandas as pd\n",
    "from gensim.models.doc2vec import Doc2Vec, TaggedDocument\n",
    "from gensim.parsing.preprocessing import strip_punctuation, strip_numeric\n",
    "import random"
   ]
  },
  {
   "cell_type": "markdown",
   "metadata": {},
   "source": [
    "## Data\n",
    "Data comes from [this academic source](http://fakenews.research.sfu.ca/)."
   ]
  },
  {
   "cell_type": "code",
   "execution_count": 2,
   "metadata": {},
   "outputs": [],
   "source": [
    "df = pd.read_csv(\"data/snopes_phase2_clean_2018_7_3.csv\")"
   ]
  },
  {
   "cell_type": "code",
   "execution_count": 3,
   "metadata": {},
   "outputs": [],
   "source": [
    "raw_texts = list(df['original_article_text_phase2'])\n",
    "labels = list(df['fact_rating_phase1'])"
   ]
  },
  {
   "cell_type": "code",
   "execution_count": 4,
   "metadata": {},
   "outputs": [
    {
     "name": "stdout",
     "output_type": "stream",
     "text": [
      "We have 15804 total texts in our dataset.\n"
     ]
    }
   ],
   "source": [
    "print('We have '+str(len(raw_texts))+' total texts in our dataset.')"
   ]
  },
  {
   "cell_type": "code",
   "execution_count": 5,
   "metadata": {},
   "outputs": [],
   "source": [
    "def clean(doc):\n",
    "    return strip_punctuation(doc).lower().split()"
   ]
  },
  {
   "cell_type": "code",
   "execution_count": 6,
   "metadata": {},
   "outputs": [],
   "source": [
    "texts = [clean(doc) for doc in raw_texts]"
   ]
  },
  {
   "cell_type": "markdown",
   "metadata": {},
   "source": [
    "The following creates TaggedDocument objects for each of the texts in the dataset, where each text is tagged by the fact rating (label),e.g. \"true\" or \"false.\""
   ]
  },
  {
   "cell_type": "code",
   "execution_count": 7,
   "metadata": {},
   "outputs": [],
   "source": [
    "documents = [TaggedDocument(doc, [label]) for doc,label in zip(texts,labels)]\n",
    "random.shuffle(documents)\n",
    "n = len(documents)\n",
    "split = n*7//10\n",
    "train_corpus = documents[:split]\n",
    "test_corpus = documents[split:]"
   ]
  },
  {
   "cell_type": "markdown",
   "metadata": {},
   "source": [
    "## Model\n",
    "The model is trained on the documents, with vector size of 100 (for each word), with a window of 10 (each word is predicted by the 10 words surrounding it). min_count = 2 means that every word will be used if it appears more than once."
   ]
  },
  {
   "cell_type": "code",
   "execution_count": 8,
   "metadata": {},
   "outputs": [],
   "source": [
    "model = Doc2Vec(vector_size=100, window=10, min_count=2, epochs=100)\n",
    "model.build_vocab(train_corpus)"
   ]
  },
  {
   "cell_type": "markdown",
   "metadata": {},
   "source": [
    "Train"
   ]
  },
  {
   "cell_type": "code",
   "execution_count": 9,
   "metadata": {},
   "outputs": [],
   "source": [
    "model.train(train_corpus, total_examples=model.corpus_count, epochs=model.epochs)"
   ]
  },
  {
   "cell_type": "markdown",
   "metadata": {},
   "source": [
    "Save the model"
   ]
  },
  {
   "cell_type": "code",
   "execution_count": 20,
   "metadata": {},
   "outputs": [],
   "source": [
    "model.save(\"models/my_doc2vec_model\")\n",
    "model = Doc2Vec.load(\"models/my_doc2vec_model\")"
   ]
  },
  {
   "cell_type": "markdown",
   "metadata": {},
   "source": [
    "# Evaluating"
   ]
  },
  {
   "cell_type": "markdown",
   "metadata": {},
   "source": [
    "## Example"
   ]
  },
  {
   "cell_type": "code",
   "execution_count": 19,
   "metadata": {},
   "outputs": [
    {
     "name": "stdout",
     "output_type": "stream",
     "text": [
      "[ 0.55356336  0.34289587  0.5039152   0.7559751   0.25213003  1.0299613\n",
      " -0.7082775  -0.5057964   0.11715787 -0.64546925 -0.16096687 -0.28979084\n",
      " -0.06682199 -0.19200891  0.03027644  0.5119883   0.5079666   0.4487274\n",
      "  0.18696629  0.5818896   0.19151989 -0.0216381  -0.50858855 -0.27248672\n",
      "  0.21002984  0.2447957  -0.36019418 -1.2572     -0.08455919 -0.04736549\n",
      " -1.3155012  -0.34274608  0.14596397  0.30664265 -0.6106777   0.75890523\n",
      " -0.39150646 -0.80904526  0.24119864 -0.6517878  -0.05164708 -0.66930896\n",
      " -0.05648576  0.727746   -0.7741949  -0.44230926  0.48399165 -0.0768225\n",
      "  0.7821966   0.52545375 -0.06728771 -0.7721223   0.6785759  -0.3941588\n",
      "  0.3337826  -0.00497984 -0.8542931   0.31506607  0.04707924 -0.3627375\n",
      "  0.00781691 -0.36983645 -0.24101378  0.12170418  0.7448678  -0.26418227\n",
      "  0.3660997   0.69943255 -0.15209723  0.4801735   0.01532328 -0.62834305\n",
      "  0.16523278  0.29566127 -0.10229503 -0.7899027   0.5496639   0.0200149\n",
      " -0.60574204  0.6114056  -0.5372891   0.49396458  0.09204521 -0.1372426\n",
      "  0.40869457  0.49078816  0.93295676 -0.07401912  0.26751435  0.22423725\n",
      "  0.6425805  -0.73986703 -0.3509784   0.4534396   0.18038854  0.17963037\n",
      "  0.35785967 -0.26173297  0.5350989  -0.21890166]\n"
     ]
    },
    {
     "data": {
      "text/plain": [
       "100"
      ]
     },
     "execution_count": 19,
     "metadata": {},
     "output_type": "execute_result"
    }
   ],
   "source": [
    "new_doc = 'hillary clinton won the presidential election'.split()\n",
    "vector = model.infer_vector(new_doc)\n",
    "print(vector)"
   ]
  },
  {
   "cell_type": "markdown",
   "metadata": {},
   "source": [
    "## Assessment\n",
    "We do the following to make sure the model is behaving in a useful way. For each document in the train corpus, we infer a new vector from the model, calculate the most similar document vectors in the model, and determine if the inferred vectors are closest to themselves in the model. ***rank*** will store the index of the correct document in the similarity list. We should see most of the documents ranked as the number one most similar document to themselves."
   ]
  },
  {
   "cell_type": "code",
   "execution_count": 12,
   "metadata": {},
   "outputs": [],
   "source": [
    "ranks = []\n",
    "second_ranks = []\n",
    "for doc_id in range(len(train_corpus)):\n",
    "    inferred_vector = model.infer_vector(train_corpus[doc_id].words)\n",
    "    sims = model.docvecs.most_similar([inferred_vector], topn=len(model.docvecs))\n",
    "    rank = [docid for docid, sim in sims].index(train_corpus[doc_id].tags[0])\n",
    "    ranks.append(rank)\n",
    "    second_ranks.append(sims[1])"
   ]
  },
  {
   "cell_type": "code",
   "execution_count": 13,
   "metadata": {},
   "outputs": [
    {
     "name": "stdout",
     "output_type": "stream",
     "text": [
      "Counter({0: 7318, 1: 1382, 2: 696, 3: 425, 4: 288, 5: 224, 6: 189, 7: 146, 8: 127, 11: 94, 9: 90, 10: 83})\n"
     ]
    }
   ],
   "source": [
    "import collections\n",
    "\n",
    "counter = collections.Counter(ranks)\n",
    "print(counter)"
   ]
  },
  {
   "cell_type": "markdown",
   "metadata": {},
   "source": [
    "# Testing Stuff"
   ]
  },
  {
   "cell_type": "code",
   "execution_count": 14,
   "metadata": {},
   "outputs": [],
   "source": [
    "a_vec_labels = []\n",
    "for i in range(0,100):\n",
    "    a_vec_labels.append('a_vec_'+str(i))"
   ]
  },
  {
   "cell_type": "code",
   "execution_count": 15,
   "metadata": {},
   "outputs": [
    {
     "data": {
      "text/html": [
       "<div>\n",
       "<style scoped>\n",
       "    .dataframe tbody tr th:only-of-type {\n",
       "        vertical-align: middle;\n",
       "    }\n",
       "\n",
       "    .dataframe tbody tr th {\n",
       "        vertical-align: top;\n",
       "    }\n",
       "\n",
       "    .dataframe thead th {\n",
       "        text-align: right;\n",
       "    }\n",
       "</style>\n",
       "<table border=\"1\" class=\"dataframe\">\n",
       "  <thead>\n",
       "    <tr style=\"text-align: right;\">\n",
       "      <th></th>\n",
       "      <th>a_vec_0</th>\n",
       "      <th>a_vec_1</th>\n",
       "      <th>a_vec_2</th>\n",
       "      <th>a_vec_3</th>\n",
       "      <th>a_vec_4</th>\n",
       "      <th>a_vec_5</th>\n",
       "      <th>a_vec_6</th>\n",
       "      <th>a_vec_7</th>\n",
       "      <th>a_vec_8</th>\n",
       "      <th>a_vec_9</th>\n",
       "      <th>...</th>\n",
       "      <th>a_vec_90</th>\n",
       "      <th>a_vec_91</th>\n",
       "      <th>a_vec_92</th>\n",
       "      <th>a_vec_93</th>\n",
       "      <th>a_vec_94</th>\n",
       "      <th>a_vec_95</th>\n",
       "      <th>a_vec_96</th>\n",
       "      <th>a_vec_97</th>\n",
       "      <th>a_vec_98</th>\n",
       "      <th>a_vec_99</th>\n",
       "    </tr>\n",
       "  </thead>\n",
       "  <tbody>\n",
       "  </tbody>\n",
       "</table>\n",
       "<p>0 rows × 100 columns</p>\n",
       "</div>"
      ],
      "text/plain": [
       "Empty DataFrame\n",
       "Columns: [a_vec_0, a_vec_1, a_vec_2, a_vec_3, a_vec_4, a_vec_5, a_vec_6, a_vec_7, a_vec_8, a_vec_9, a_vec_10, a_vec_11, a_vec_12, a_vec_13, a_vec_14, a_vec_15, a_vec_16, a_vec_17, a_vec_18, a_vec_19, a_vec_20, a_vec_21, a_vec_22, a_vec_23, a_vec_24, a_vec_25, a_vec_26, a_vec_27, a_vec_28, a_vec_29, a_vec_30, a_vec_31, a_vec_32, a_vec_33, a_vec_34, a_vec_35, a_vec_36, a_vec_37, a_vec_38, a_vec_39, a_vec_40, a_vec_41, a_vec_42, a_vec_43, a_vec_44, a_vec_45, a_vec_46, a_vec_47, a_vec_48, a_vec_49, a_vec_50, a_vec_51, a_vec_52, a_vec_53, a_vec_54, a_vec_55, a_vec_56, a_vec_57, a_vec_58, a_vec_59, a_vec_60, a_vec_61, a_vec_62, a_vec_63, a_vec_64, a_vec_65, a_vec_66, a_vec_67, a_vec_68, a_vec_69, a_vec_70, a_vec_71, a_vec_72, a_vec_73, a_vec_74, a_vec_75, a_vec_76, a_vec_77, a_vec_78, a_vec_79, a_vec_80, a_vec_81, a_vec_82, a_vec_83, a_vec_84, a_vec_85, a_vec_86, a_vec_87, a_vec_88, a_vec_89, a_vec_90, a_vec_91, a_vec_92, a_vec_93, a_vec_94, a_vec_95, a_vec_96, a_vec_97, a_vec_98, a_vec_99]\n",
       "Index: []\n",
       "\n",
       "[0 rows x 100 columns]"
      ]
     },
     "execution_count": 15,
     "metadata": {},
     "output_type": "execute_result"
    }
   ],
   "source": [
    "test = pd.DataFrame(columns=a_vec_labels)\n",
    "test"
   ]
  },
  {
   "cell_type": "code",
   "execution_count": 16,
   "metadata": {},
   "outputs": [
    {
     "name": "stdout",
     "output_type": "stream",
     "text": [
      "[-0.1784278, 1.3330603, 2.6526241, 3.105145, 3.4260335, 3.037864, -1.2165773, 1.3921784, 0.49113676, -0.40299338, 0.17370708, 0.8171446, 1.4808908, -0.3434352, -0.3222706, 7.640425, 6.7384973, 2.4144955, -0.35059428, 3.1217365, -1.2044243, -0.19923551, -3.369364, 1.3040717, -2.2644765, 2.3929367, -0.33051476, -5.0254636, 2.792715, -2.4706166, -1.7206733, 1.4587978, 2.058685, 0.45824018, 1.0071696, 2.3725657, -0.44208062, -1.1700135, -2.0797873, 0.84374565, -1.3710631, 0.104454786, -0.36281177, 0.26372114, -0.07936885, 0.26037624, 1.960281, -2.0275617, 1.5468478, 2.1120186, 3.9751973, -0.40382567, 3.3880253, -3.4590626, 3.9543805, -1.0642099, -1.9151137, 6.028958, 2.7899141, 2.1637254, 0.5943705, -0.37828916, -2.6014645, 0.7266521, 3.2402802, -1.3518803, -2.5701818, 0.51912344, -0.93017673, 3.194452, -3.4080641, 1.992742, 4.116685, 0.71092325, 0.7308884, -2.843813, 0.3158367, -3.0270953, -4.4702854, 1.2037218, -3.7543416, -0.37810338, -2.4403706, -0.92183477, -2.6385128, 1.1209885, 2.440592, -4.4280844, -1.5252359, 0.91167563, 4.253487, 0.35125405, -0.45136052, 1.6898592, -0.8040045, 1.7711084, 1.7211837, -0.33756354, 2.3607528, -1.2263365]\n"
     ]
    }
   ],
   "source": [
    "# DELETE THIS\n",
    "vecs = []\n",
    "for i,text in enumerate(test_corpus):\n",
    "    e = list(model.infer_vector(text.words))\n",
    "    vecs.append(e)\n",
    "    print(e)\n",
    "    break"
   ]
  },
  {
   "cell_type": "code",
   "execution_count": 17,
   "metadata": {},
   "outputs": [],
   "source": [
    "test = pd.DataFrame(vecs,columns=a_vec_labels)"
   ]
  },
  {
   "cell_type": "code",
   "execution_count": 18,
   "metadata": {},
   "outputs": [
    {
     "data": {
      "text/html": [
       "<div>\n",
       "<style scoped>\n",
       "    .dataframe tbody tr th:only-of-type {\n",
       "        vertical-align: middle;\n",
       "    }\n",
       "\n",
       "    .dataframe tbody tr th {\n",
       "        vertical-align: top;\n",
       "    }\n",
       "\n",
       "    .dataframe thead th {\n",
       "        text-align: right;\n",
       "    }\n",
       "</style>\n",
       "<table border=\"1\" class=\"dataframe\">\n",
       "  <thead>\n",
       "    <tr style=\"text-align: right;\">\n",
       "      <th></th>\n",
       "      <th>a_vec_0</th>\n",
       "      <th>a_vec_1</th>\n",
       "      <th>a_vec_2</th>\n",
       "      <th>a_vec_3</th>\n",
       "      <th>a_vec_4</th>\n",
       "      <th>a_vec_5</th>\n",
       "      <th>a_vec_6</th>\n",
       "      <th>a_vec_7</th>\n",
       "      <th>a_vec_8</th>\n",
       "      <th>a_vec_9</th>\n",
       "      <th>...</th>\n",
       "      <th>a_vec_90</th>\n",
       "      <th>a_vec_91</th>\n",
       "      <th>a_vec_92</th>\n",
       "      <th>a_vec_93</th>\n",
       "      <th>a_vec_94</th>\n",
       "      <th>a_vec_95</th>\n",
       "      <th>a_vec_96</th>\n",
       "      <th>a_vec_97</th>\n",
       "      <th>a_vec_98</th>\n",
       "      <th>a_vec_99</th>\n",
       "    </tr>\n",
       "  </thead>\n",
       "  <tbody>\n",
       "    <tr>\n",
       "      <th>0</th>\n",
       "      <td>-0.178428</td>\n",
       "      <td>1.33306</td>\n",
       "      <td>2.652624</td>\n",
       "      <td>3.105145</td>\n",
       "      <td>3.426033</td>\n",
       "      <td>3.037864</td>\n",
       "      <td>-1.216577</td>\n",
       "      <td>1.392178</td>\n",
       "      <td>0.491137</td>\n",
       "      <td>-0.402993</td>\n",
       "      <td>...</td>\n",
       "      <td>4.253487</td>\n",
       "      <td>0.351254</td>\n",
       "      <td>-0.451361</td>\n",
       "      <td>1.689859</td>\n",
       "      <td>-0.804004</td>\n",
       "      <td>1.771108</td>\n",
       "      <td>1.721184</td>\n",
       "      <td>-0.337564</td>\n",
       "      <td>2.360753</td>\n",
       "      <td>-1.226336</td>\n",
       "    </tr>\n",
       "  </tbody>\n",
       "</table>\n",
       "<p>1 rows × 100 columns</p>\n",
       "</div>"
      ],
      "text/plain": [
       "    a_vec_0  a_vec_1   a_vec_2   a_vec_3   a_vec_4   a_vec_5   a_vec_6  \\\n",
       "0 -0.178428  1.33306  2.652624  3.105145  3.426033  3.037864 -1.216577   \n",
       "\n",
       "    a_vec_7   a_vec_8   a_vec_9  ...  a_vec_90  a_vec_91  a_vec_92  a_vec_93  \\\n",
       "0  1.392178  0.491137 -0.402993  ...  4.253487  0.351254 -0.451361  1.689859   \n",
       "\n",
       "   a_vec_94  a_vec_95  a_vec_96  a_vec_97  a_vec_98  a_vec_99  \n",
       "0 -0.804004  1.771108  1.721184 -0.337564  2.360753 -1.226336  \n",
       "\n",
       "[1 rows x 100 columns]"
      ]
     },
     "execution_count": 18,
     "metadata": {},
     "output_type": "execute_result"
    }
   ],
   "source": [
    "test"
   ]
  },
  {
   "cell_type": "code",
   "execution_count": null,
   "metadata": {},
   "outputs": [],
   "source": []
  }
 ],
 "metadata": {
  "kernelspec": {
   "display_name": "Python 3",
   "language": "python",
   "name": "python3"
  },
  "language_info": {
   "codemirror_mode": {
    "name": "ipython",
    "version": 3
   },
   "file_extension": ".py",
   "mimetype": "text/x-python",
   "name": "python",
   "nbconvert_exporter": "python",
   "pygments_lexer": "ipython3",
   "version": "3.8.5"
  }
 },
 "nbformat": 4,
 "nbformat_minor": 2
}
